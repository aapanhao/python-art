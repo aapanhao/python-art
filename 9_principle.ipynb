{
 "cells": [
  {
   "cell_type": "code",
   "execution_count": 2,
   "id": "94b5ee25",
   "metadata": {},
   "outputs": [],
   "source": [
    "a = [1,3,5,2,4,6]"
   ]
  },
  {
   "cell_type": "code",
   "execution_count": 8,
   "id": "cdbf3a9a",
   "metadata": {},
   "outputs": [],
   "source": [
    "b = {\"p\": 18, \"h\": 20, \"c\": 16, \"w\": 14}"
   ]
  },
  {
   "cell_type": "code",
   "execution_count": 11,
   "id": "d4f735fc",
   "metadata": {},
   "outputs": [],
   "source": [
    "def func(key):\n",
    "    return b[key]"
   ]
  },
  {
   "cell_type": "code",
   "execution_count": 12,
   "id": "38dbfc2e",
   "metadata": {},
   "outputs": [
    {
     "data": {
      "text/plain": [
       "['w', 'c', 'p', 'h']"
      ]
     },
     "execution_count": 12,
     "metadata": {},
     "output_type": "execute_result"
    }
   ],
   "source": [
    "sorted(b.keys(), key=func)"
   ]
  },
  {
   "cell_type": "code",
   "execution_count": 13,
   "id": "1ef5daf6",
   "metadata": {},
   "outputs": [
    {
     "data": {
      "text/plain": [
       "[('w', 14), ('c', 16), ('p', 18), ('h', 20)]"
      ]
     },
     "execution_count": 13,
     "metadata": {},
     "output_type": "execute_result"
    }
   ],
   "source": [
    "sorted(b.items(), key=lambda x: x[1])"
   ]
  },
  {
   "cell_type": "code",
   "execution_count": null,
   "id": "caaf5851",
   "metadata": {},
   "outputs": [],
   "source": []
  }
 ],
 "metadata": {
  "kernelspec": {
   "display_name": "Python 3 (ipykernel)",
   "language": "python",
   "name": "python3"
  },
  "language_info": {
   "codemirror_mode": {
    "name": "ipython",
    "version": 3
   },
   "file_extension": ".py",
   "mimetype": "text/x-python",
   "name": "python",
   "nbconvert_exporter": "python",
   "pygments_lexer": "ipython3",
   "version": "3.8.11"
  }
 },
 "nbformat": 4,
 "nbformat_minor": 5
}
