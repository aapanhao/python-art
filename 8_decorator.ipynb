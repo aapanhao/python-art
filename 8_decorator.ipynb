{
 "cells": [
  {
   "cell_type": "code",
   "execution_count": 1,
   "id": "96a982fe",
   "metadata": {},
   "outputs": [],
   "source": [
    "import time\n",
    "import functools\n"
   ]
  },
  {
   "cell_type": "code",
   "execution_count": 37,
   "id": "d93bad2b",
   "metadata": {},
   "outputs": [],
   "source": [
    "def add_sum(*args, **kwargs):\n",
    "    print(kwargs)\n",
    "    return sum(args)"
   ]
  },
  {
   "cell_type": "code",
   "execution_count": 40,
   "id": "ac68c25d",
   "metadata": {},
   "outputs": [],
   "source": [
    "c = functools.partial(add_sum, a=100)"
   ]
  },
  {
   "cell_type": "code",
   "execution_count": 41,
   "id": "222bf53a",
   "metadata": {},
   "outputs": [
    {
     "name": "stdout",
     "output_type": "stream",
     "text": [
      "{'a': 100}\n"
     ]
    },
    {
     "data": {
      "text/plain": [
       "6"
      ]
     },
     "execution_count": 41,
     "metadata": {},
     "output_type": "execute_result"
    }
   ],
   "source": [
    "c(1,2,3)"
   ]
  },
  {
   "cell_type": "code",
   "execution_count": 3,
   "id": "26ef0c5d",
   "metadata": {},
   "outputs": [
    {
     "data": {
      "text/plain": [
       "(<function functools.update_wrapper(wrapper, wrapped, assigned=('__module__', '__name__', '__qualname__', '__doc__', '__annotations__'), updated=('__dict__',))>,\n",
       " <function functools.wraps(wrapped, assigned=('__module__', '__name__', '__qualname__', '__doc__', '__annotations__'), updated=('__dict__',))>)"
      ]
     },
     "execution_count": 3,
     "metadata": {},
     "output_type": "execute_result"
    }
   ],
   "source": [
    "functools.update_wrapper, functools.wraps"
   ]
  },
  {
   "cell_type": "code",
   "execution_count": null,
   "id": "49838fb4",
   "metadata": {},
   "outputs": [],
   "source": [
    "def timer(func):\n",
    "    @functools.wraps(func)\n",
    "    def decorator(*args, **kwargs):\n",
    "        start = time.time()\n",
    "        res = func(*args, **kwargs)\n",
    "        end = time.time()\n",
    "        print(f\"cost: {end-start}\")\n",
    "        return res\n",
    "    return decorator"
   ]
  },
  {
   "cell_type": "code",
   "execution_count": null,
   "id": "0b01fb02",
   "metadata": {},
   "outputs": [],
   "source": [
    "def timer(is_ms=False):\n",
    "    def decorator(func):\n",
    "        def wapper(*args, **kwargs):\n",
    "            start = time.time()\n",
    "            res = func(*args, **kwargs)\n",
    "            end = time.time()\n",
    "            cost = end-start\n",
    "            cost = f\"{cost * 1000} ms\" if is_ms else f\"{cost} s\"\n",
    "            print(f\"cost: {cost}\")\n",
    "        return wapper\n",
    "    return decorator"
   ]
  },
  {
   "cell_type": "code",
   "execution_count": null,
   "id": "716fafb9",
   "metadata": {},
   "outputs": [],
   "source": [
    "# 可选参数"
   ]
  },
  {
   "cell_type": "code",
   "execution_count": 6,
   "id": "baec667c",
   "metadata": {},
   "outputs": [],
   "source": [
    "# 类装饰器\n",
    "class timer:\n",
    "    def __init__(self, is_ms=False):\n",
    "        self.is_ms = is_ms\n",
    "    \n",
    "    def __call__(self, func):\n",
    "        @functools.wraps(func)\n",
    "        def decorator(*args, **kwargs):\n",
    "            start = time.time()\n",
    "            res = func(*args, **kwargs)\n",
    "            end = time.time()\n",
    "            print(f\"class cost: {end-start}\")\n",
    "            return res\n",
    "        return decorator\n",
    "    \n",
    "    \n",
    "@timer(is_ms=True)\n",
    "def a(key1, key2):\n",
    "    time.sleep(0.5)\n",
    "    return key1 + key2\n",
    "\n",
    "# 第一层类实例化，第二层实例调用call方法"
   ]
  },
  {
   "cell_type": "code",
   "execution_count": 10,
   "id": "ed44dd96",
   "metadata": {},
   "outputs": [],
   "source": [
    "# 类装饰器，实例替换\n",
    "class timer:\n",
    "    def __init__(self, func):\n",
    "        functools.update_wrapper(self, func)\n",
    "        self.func = func\n",
    "    def __call__(self, *args, **kwargs):\n",
    "        print(\"call func:\", self.func(*args, *kwargs))\n",
    "        \n",
    "        \n",
    "@timer\n",
    "def a(key1, key2):\n",
    "    time.sleep(0.5)\n",
    "    return key1 + key2\n",
    "\n",
    "# 第一层类实例化，第二层实例调用call方法"
   ]
  },
  {
   "cell_type": "code",
   "execution_count": 51,
   "id": "94295699",
   "metadata": {},
   "outputs": [],
   "source": [
    "# 类装饰器，实例替换，带参数\n",
    "class timer:\n",
    "    def __init__(self, func, *, duration=1):\n",
    "        functools.update_wrapper(self, func)\n",
    "        self.func = func\n",
    "        self.duration = duration\n",
    "    def __call__(self, *args, **kwargs):\n",
    "        time.sleep(self.duration)\n",
    "        print(f\"timer {self.duration}\")\n",
    "        print(\"call func:\", self.func(*args, *kwargs))\n",
    "\n",
    "def delay_start(**kwargs):\n",
    "    return functools.partial(timer, **kwargs)\n",
    "\n",
    "\n",
    "\n",
    "@delay_start(duration=0)\n",
    "def a(key1, key2):\n",
    "    print(\"aa\")\n",
    "    time.sleep(0.5)\n",
    "    return key1 + key2\n",
    "\n",
    "# 第一层类实例化，第二层实例调用call方法"
   ]
  },
  {
   "cell_type": "code",
   "execution_count": 53,
   "id": "83dd5dc8",
   "metadata": {},
   "outputs": [],
   "source": [
    "def a(key1, key2):\n",
    "    print(\"aa\")\n",
    "    time.sleep(0.5)\n",
    "    return key1 + key2"
   ]
  },
  {
   "cell_type": "code",
   "execution_count": 64,
   "id": "fbcf3bbc",
   "metadata": {},
   "outputs": [
    {
     "data": {
      "text/plain": [
       "True"
      ]
     },
     "execution_count": 64,
     "metadata": {},
     "output_type": "execute_result"
    }
   ],
   "source": [
    "# 单例模式\n",
    "def singleton(cls):\n",
    "    _instance = {}\n",
    "    def decorator(*args, **kwargs):\n",
    "        if cls not in _instance:\n",
    "            _instance[cls] = cls(*args, **kwargs)\n",
    "        return _instance[cls]\n",
    "    return decorator\n",
    "\n",
    "@singleton\n",
    "class A:\n",
    "    pass\n",
    "\n",
    "a = A()\n",
    "b = A()\n",
    "a is b"
   ]
  },
  {
   "cell_type": "code",
   "execution_count": 68,
   "id": "d1935735",
   "metadata": {},
   "outputs": [
    {
     "name": "stdout",
     "output_type": "stream",
     "text": [
      "[1, 2, 3, 4, 5, 6, 7, 8]\n",
      "[2, 4, 6, 8]\n",
      "[6, 7, 8]\n"
     ]
    }
   ],
   "source": [
    "# 装饰器模式\n",
    "class Number:\n",
    "    def __init__(self, numbers):\n",
    "        self.numbers = numbers\n",
    "    def get(self):\n",
    "        return self.numbers\n",
    "class EvenDecorator:\n",
    "    def __init__(self, decorator):\n",
    "        self.decorator = decorator\n",
    "    def get(self):\n",
    "        return [i for i in self.decorator.get() if i % 2 == 0]\n",
    "class GreaterDecorator:\n",
    "    def __init__(self, decorator, min_value):\n",
    "        self.decorator = decorator\n",
    "        self.min_value = min_value\n",
    "    def get(self):\n",
    "        return [i for i in self.decorator.get() if i > self.min_value]\n",
    "    \n",
    "n = Number([1,2,3,4,5,6,7,8])\n",
    "print(n.get())\n",
    "\n",
    "e = EvenDecorator(n)\n",
    "print(e.get())\n",
    "\n",
    "g = GreaterDecorator(n, 5)\n",
    "print(g.get())\n"
   ]
  },
  {
   "cell_type": "code",
   "execution_count": null,
   "id": "c287baf6",
   "metadata": {},
   "outputs": [],
   "source": []
  }
 ],
 "metadata": {
  "kernelspec": {
   "display_name": "Python 3 (ipykernel)",
   "language": "python",
   "name": "python3"
  },
  "language_info": {
   "codemirror_mode": {
    "name": "ipython",
    "version": 3
   },
   "file_extension": ".py",
   "mimetype": "text/x-python",
   "name": "python",
   "nbconvert_exporter": "python",
   "pygments_lexer": "ipython3",
   "version": "3.8.11"
  }
 },
 "nbformat": 4,
 "nbformat_minor": 5
}
