{
 "cells": [
  {
   "cell_type": "code",
   "execution_count": null,
   "id": "87258914",
   "metadata": {},
   "outputs": [],
   "source": [
    "import re"
   ]
  },
  {
   "cell_type": "code",
   "execution_count": null,
   "id": "13523470",
   "metadata": {},
   "outputs": [],
   "source": [
    "a = \"你好123,哈哈55\""
   ]
  },
  {
   "cell_type": "code",
   "execution_count": null,
   "id": "d503091d",
   "metadata": {},
   "outputs": [],
   "source": [
    "re.sub(\"\\d\", \"*\", a)"
   ]
  },
  {
   "cell_type": "code",
   "execution_count": null,
   "id": "2a5315ae",
   "metadata": {},
   "outputs": [],
   "source": [
    "a = {\"p\": 10, \"h\": 20, \"w\": 18}"
   ]
  },
  {
   "cell_type": "code",
   "execution_count": null,
   "id": "69e4081c",
   "metadata": {},
   "outputs": [],
   "source": [
    "(sorted(a.items(), key=lambda x: x[1]))"
   ]
  },
  {
   "cell_type": "code",
   "execution_count": null,
   "id": "319f03fe",
   "metadata": {},
   "outputs": [],
   "source": []
  }
 ],
 "metadata": {
  "kernelspec": {
   "display_name": "Python 3 (ipykernel)",
   "language": "python",
   "name": "python3"
  },
  "language_info": {
   "codemirror_mode": {
    "name": "ipython",
    "version": 3
   },
   "file_extension": ".py",
   "mimetype": "text/x-python",
   "name": "python",
   "nbconvert_exporter": "python",
   "pygments_lexer": "ipython3",
   "version": "3.8.11"
  }
 },
 "nbformat": 4,
 "nbformat_minor": 5
}
