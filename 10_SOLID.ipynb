{
 "cells": [
  {
   "cell_type": "code",
   "execution_count": null,
   "id": "f3292bfe",
   "metadata": {},
   "outputs": [],
   "source": [
    "# 实例：爬虫，爬取并输入到文件；利用SOLID来编写\n",
    "\n",
    "\"\"\"\n",
    "找一个网站，https://news.ycombinator.com，进行爬取\n",
    "输出(屏幕、文件)\n",
    "\"\"\""
   ]
  },
  {
   "cell_type": "code",
   "execution_count": null,
   "id": "24bec985",
   "metadata": {},
   "outputs": [],
   "source": []
  },
  {
   "cell_type": "code",
   "execution_count": null,
   "id": "45194c40",
   "metadata": {},
   "outputs": [],
   "source": []
  },
  {
   "cell_type": "code",
   "execution_count": null,
   "id": "beb2a325",
   "metadata": {},
   "outputs": [],
   "source": []
  },
  {
   "cell_type": "code",
   "execution_count": null,
   "id": "916fa9e5",
   "metadata": {},
   "outputs": [],
   "source": []
  },
  {
   "cell_type": "code",
   "execution_count": null,
   "id": "95140b7a",
   "metadata": {},
   "outputs": [],
   "source": [
    "# 单一原则，方便修改，灵活"
   ]
  },
  {
   "cell_type": "code",
   "execution_count": null,
   "id": "4da3ce52",
   "metadata": {},
   "outputs": [],
   "source": []
  },
  {
   "cell_type": "code",
   "execution_count": null,
   "id": "ad30ebdf",
   "metadata": {},
   "outputs": [],
   "source": [
    "# 开闭原则，对扩展开放，对修改关闭\n",
    "# 使用继承、组合、数据驱动"
   ]
  },
  {
   "cell_type": "code",
   "execution_count": null,
   "id": "fe9109bd",
   "metadata": {},
   "outputs": [],
   "source": []
  },
  {
   "cell_type": "code",
   "execution_count": null,
   "id": "8d32d03e",
   "metadata": {},
   "outputs": [],
   "source": [
    "# 里氏替代，子类对象可以完全实现父类功能，不会引发异常"
   ]
  },
  {
   "cell_type": "code",
   "execution_count": null,
   "id": "8bcb9134",
   "metadata": {},
   "outputs": [],
   "source": []
  },
  {
   "cell_type": "code",
   "execution_count": null,
   "id": "0112a216",
   "metadata": {},
   "outputs": [],
   "source": [
    "# 接口隔离，调用发不依赖它不使用的方法，清晰灵活"
   ]
  },
  {
   "cell_type": "code",
   "execution_count": null,
   "id": "8c2bac75",
   "metadata": {},
   "outputs": [],
   "source": []
  },
  {
   "cell_type": "code",
   "execution_count": null,
   "id": "5970c953",
   "metadata": {},
   "outputs": [],
   "source": [
    "# 依赖倒置，上层不依赖下层，两者都只依赖抽象"
   ]
  }
 ],
 "metadata": {
  "kernelspec": {
   "display_name": "Python 3 (ipykernel)",
   "language": "python",
   "name": "python3"
  },
  "language_info": {
   "codemirror_mode": {
    "name": "ipython",
    "version": 3
   },
   "file_extension": ".py",
   "mimetype": "text/x-python",
   "name": "python",
   "nbconvert_exporter": "python",
   "pygments_lexer": "ipython3",
   "version": "3.8.11"
  }
 },
 "nbformat": 4,
 "nbformat_minor": 5
}
